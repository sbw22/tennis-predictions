{
 "cells": [
  {
   "cell_type": "markdown",
   "id": "e81ac855-2e04-49fa-85c9-1f472f1f19d6",
   "metadata": {},
   "source": [
    "### Goal of this program: To take inputs (stats from tennis players) and output predicted winning percentage"
   ]
  },
  {
   "cell_type": "markdown",
   "id": "cd56c0ee-828c-4286-8597-4418f2b86d94",
   "metadata": {},
   "source": [
    "### Steps:\n",
    "###### 1) Scrape data from tennis database (tennisabstract.com for now)\n",
    "###### 2) input data into model\n",
    "###### 3) Model ouputs predicted winning percentage (and maybe predicted outcome against opponent in the future)"
   ]
  },
  {
   "cell_type": "code",
   "execution_count": 3,
   "id": "8d7d1ac8-1703-4237-bf26-6f9f85d369b5",
   "metadata": {},
   "outputs": [
    {
     "ename": "ModuleNotFoundError",
     "evalue": "No module named 'scraper'",
     "output_type": "error",
     "traceback": [
      "\u001b[0;31m---------------------------------------------------------------------------\u001b[0m",
      "\u001b[0;31mModuleNotFoundError\u001b[0m                       Traceback (most recent call last)",
      "Cell \u001b[0;32mIn[3], line 22\u001b[0m\n\u001b[1;32m     18\u001b[0m get_ipython()\u001b[38;5;241m.\u001b[39mrun_line_magic(\u001b[38;5;124m'\u001b[39m\u001b[38;5;124mmatplotlib\u001b[39m\u001b[38;5;124m'\u001b[39m, \u001b[38;5;124m'\u001b[39m\u001b[38;5;124minline\u001b[39m\u001b[38;5;124m'\u001b[39m)\n\u001b[1;32m     20\u001b[0m \u001b[38;5;28;01mimport\u001b[39;00m \u001b[38;5;21;01mos\u001b[39;00m\n\u001b[0;32m---> 22\u001b[0m \u001b[38;5;28;01mimport\u001b[39;00m \u001b[38;5;21;01mscraper\u001b[39;00m\u001b[38;5;21;01m.\u001b[39;00m\u001b[38;5;21;01mipynb\u001b[39;00m\n",
      "\u001b[0;31mModuleNotFoundError\u001b[0m: No module named 'scraper'"
     ]
    }
   ],
   "source": [
    "import numpy as np\n",
    "import keras\n",
    "from keras import backend as K\n",
    "from keras.models import Sequential\n",
    "from keras.layers import Activation\n",
    "from tensorflow.keras.layers import Input, Dense, Flatten, Conv2D, MaxPool2D, GlobalAveragePooling2D\n",
    "from keras.optimizers import Adam\n",
    "from keras.metrics import categorical_crossentropy\n",
    "from tensorflow.keras.preprocessing.image import ImageDataGenerator\n",
    "from tensorflow.keras.layers import BatchNormalization\n",
    "from tensorflow.keras.layers import *\n",
    "from keras.models import Model\n",
    "from keras.applications import imagenet_utils\n",
    "from keras.preprocessing import image\n",
    "import matplotlib.pyplot as plt \n",
    "from sklearn.metrics import confusion_matrix\n",
    "import itertools\n",
    "%matplotlib inline\n",
    "\n",
    "import os\n",
    "\n",
    "import scraper.ipynb"
   ]
  },
  {
   "cell_type": "code",
   "execution_count": null,
   "id": "3b179c97-d45a-4813-bf72-a382f1e91f01",
   "metadata": {},
   "outputs": [],
   "source": []
  }
 ],
 "metadata": {
  "kernelspec": {
   "display_name": "Python 3 (ipykernel)",
   "language": "python",
   "name": "python3"
  },
  "language_info": {
   "codemirror_mode": {
    "name": "ipython",
    "version": 3
   },
   "file_extension": ".py",
   "mimetype": "text/x-python",
   "name": "python",
   "nbconvert_exporter": "python",
   "pygments_lexer": "ipython3",
   "version": "3.12.5"
  }
 },
 "nbformat": 4,
 "nbformat_minor": 5
}
